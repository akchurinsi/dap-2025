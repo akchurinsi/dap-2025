{
  "nbformat": 4,
  "nbformat_minor": 0,
  "metadata": {
    "colab": {
      "provenance": [],
      "authorship_tag": "ABX9TyNG4WClOshbZnh4s2AUjVJY",
      "include_colab_link": true
    },
    "kernelspec": {
      "name": "python3",
      "display_name": "Python 3"
    },
    "language_info": {
      "name": "python"
    }
  },
  "cells": [
    {
      "cell_type": "markdown",
      "metadata": {
        "id": "view-in-github",
        "colab_type": "text"
      },
      "source": [
        "<a href=\"https://colab.research.google.com/github/akchurinsi/dap-2025/blob/main/les01/rep.ipynb\" target=\"_parent\"><img src=\"https://colab.research.google.com/assets/colab-badge.svg\" alt=\"Open In Colab\"/></a>"
      ]
    },
    {
      "cell_type": "markdown",
      "source": [
        "# Отчет о выполнении лабораторной работы № 1. Подготовка среды для анализа данных"
      ],
      "metadata": {
        "id": "F2kUbGZOI9p6"
      }
    },
    {
      "cell_type": "markdown",
      "source": [
        "## Цель работы: настроить репозиторий для дальнейшего выполнения лабораторных работ в курсе\n",
        "\n"
      ],
      "metadata": {
        "id": "4ru58d9RJmBJ"
      }
    },
    {
      "cell_type": "markdown",
      "source": [
        "### Ход выполнения работы"
      ],
      "metadata": {
        "id": "3Rpl-Nfljf92"
      }
    },
    {
      "cell_type": "markdown",
      "source": [
        "1. Была создана учетная запись в сервисе GitHub и выполнен форк репозитория https://github.com/Nikita-Puzyrev/dap-2024.\n",
        "2. После этого, в ранее созданной учетной записи Google была пройдена авторизация и настроена интеграция Google Colab и GitHub.\n",
        "3. Далее, был создан отчет о выполненой работе в в Google Colab с названем rep.ipynb. Созданный отчет был добавлен в [репозиторий github](https://github.com/akchurinsi/dap-2025) в директории ./les01.\n",
        "4. В завершении выполнения работы был создан pull request в репозиторий https://github.com/Nikita-Puzyrev/dap-2024.\n"
      ],
      "metadata": {
        "id": "tAopK3aYjnkC"
      }
    },
    {
      "cell_type": "markdown",
      "source": [
        "##Вывод"
      ],
      "metadata": {
        "id": "cd97v9khlyVT"
      }
    },
    {
      "cell_type": "markdown",
      "source": [
        "В ходе выполнения лабораторной работы был клонирован репозиторийи настроена интеграция между Google Colab и GitHub."
      ],
      "metadata": {
        "id": "b9LvnUbVoSvf"
      }
    }
  ]
}